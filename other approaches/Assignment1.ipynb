{
  "nbformat": 4,
  "nbformat_minor": 0,
  "metadata": {
    "colab": {
      "name": "Assignment1.ipynb",
      "version": "0.3.2",
      "provenance": []
    },
    "kernelspec": {
      "name": "python3",
      "display_name": "Python 3"
    }
  },
  "cells": [
    {
      "metadata": {
        "id": "XbTSq5fzXs1D",
        "colab_type": "code",
        "colab": {}
      },
      "cell_type": "code",
      "source": [
        "import pandas as pd\n",
        "from sklearn.feature_extraction.text import HashingVectorizer\n",
        "from sklearn.naive_bayes import MultinomialNB\n",
        "from sklearn.model_selection import train_test_split\n",
        "import numpy as np\n",
        "from sklearn.metrics import accuracy_score\n",
        "from sklearn.linear_model import SGDClassifier\n",
        "from sklearn.linear_model import LogisticRegression\n",
        "from sklearn.ensemble import RandomForestClassifier\n",
        "from sklearn.svm import LinearSVC\n",
        "from sklearn.linear_model import PassiveAggressiveClassifier\n",
        "from sklearn.linear_model import Perceptron\n",
        "from sklearn.metrics import precision_score\n",
        "from sklearn.metrics import recall_score\n",
        "from sklearn.model_selection import cross_val_score\n",
        "import pickle\n",
        "import warnings\n",
        "warnings.filterwarnings(\"ignore\")"
      ],
      "execution_count": 0,
      "outputs": []
    },
    {
      "metadata": {
        "id": "rbfaDYWXaftD",
        "colab_type": "code",
        "colab": {}
      },
      "cell_type": "code",
      "source": [
        "hv = HashingVectorizer(stop_words='english',decode_error='ignore',n_features=2**18,alternate_sign=False)\n",
        "\n",
        "clf = PassiveAggressiveClassifier()\n",
        "df = pd.read_json('/content/gdrive/My Drive/review.json',lines=True,chunksize=100000)\n",
        "count = 0\n",
        "for i in df:\n",
        "  count = count + 1\n",
        "  \n",
        "  if(count<10):\n",
        "    continue\n",
        "    \n",
        "  i = i[['text','stars']]\n",
        "  features = hv.transform(i['text'])\n",
        "  i.loc[i['stars']<3,'stars'] = 1\n",
        "  i.loc[i['stars']==3,'stars'] = 2\n",
        "  i.loc[i['stars']>3,'stars'] = 3\n",
        "  \n",
        "  clf.partial_fit(features,i['stars'],classes=np.array([1,2,3]))\n",
        "  \n",
        "  print(count)\n",
        "  \n",
        "  if(count==0):\n",
        "    break\n",
        "  \n",
        "pickle.dump(clf,open('model.sav','wb'))"
      ],
      "execution_count": 0,
      "outputs": []
    },
    {
      "metadata": {
        "id": "hgR_pVmNN5yG",
        "colab_type": "code",
        "outputId": "fe8ed22b-93ef-4e44-ee81-101289448419",
        "colab": {
          "base_uri": "https://localhost:8080/",
          "height": 935
        }
      },
      "cell_type": "code",
      "source": [
        "clf = pickle.load(open('model.sav','rb'))\n",
        "hv1 = HashingVectorizer(stop_words='english',decode_error='ignore',n_features=2**18,alternate_sign=False)\n",
        "df = pd.read_json('/content/gdrive/My Drive/review.json',lines=True,chunksize=100000)\n",
        "\n",
        "count = 0\n",
        "\n",
        "for i in df:\n",
        "  count = count + 1\n",
        "  print(count)\n",
        "  \n",
        "  if(count>0):\n",
        "    i = i[['text','stars']]\n",
        "    \n",
        "    i.loc[i['stars']<3,'stars'] = 1\n",
        "    i.loc[i['stars']==3,'stars'] = 2\n",
        "    i.loc[i['stars']>3,'stars'] = 3\n",
        "    y_pred = clf.predict(hv1.transform(i['text']))\n",
        "    y_true = i['stars']\n",
        "    print('accuracy  - ' + str(accuracy_score(y_true,y_pred)))\n",
        "    print('precision - ' + str(precision_score(y_true, y_pred, average='macro')))\n",
        "    print('recall    - ' + str(recall_score(y_true, y_pred, average='macro')))\n",
        "    print('cross_val - ' + str(cross_val_score(clf, hv1.transform(i['text']), i['stars'], cv=10)))\n",
        "    \n",
        "  if(count==9):\n",
        "    break\n",
        "    \n",
        "print(clf.predict(hv1.transform([\"good\",\"bad bad\"])))"
      ],
      "execution_count": 0,
      "outputs": [
        {
          "output_type": "stream",
          "text": [
            "1\n",
            "accuracy  - 0.84811\n",
            "precision - 0.7218577008697289\n",
            "recall    - 0.67423938222126\n",
            "cross_val - [0.8419 0.8423 0.8361 0.8345 0.8405 0.8418 0.8389 0.8433 0.8409 0.8332]\n",
            "2\n",
            "accuracy  - 0.84673\n",
            "precision - 0.7231617579239628\n",
            "recall    - 0.6737040296458394\n",
            "cross_val - [0.83651635 0.83141686 0.83671633 0.82991701 0.83491651 0.8341\n",
            " 0.8339834  0.83908391 0.82818282 0.84016803]\n",
            "3\n",
            "accuracy  - 0.84603\n",
            "precision - 0.7201681188191084\n",
            "recall    - 0.6723913184236409\n",
            "cross_val - [0.83431657 0.8370163  0.83891611 0.83771623 0.8375     0.8369\n",
            " 0.8352     0.83218322 0.83858386 0.83046609]\n",
            "4\n",
            "accuracy  - 0.84854\n",
            "precision - 0.7251832628996349\n",
            "recall    - 0.677186890088306\n",
            "cross_val - [0.83691631 0.83771623 0.84071593 0.83671633 0.84261574 0.8362\n",
            " 0.83738374 0.84108411 0.83968397 0.83626725]\n",
            "5\n",
            "accuracy  - 0.84519\n",
            "precision - 0.7228519263522829\n",
            "recall    - 0.6723897839997957\n",
            "cross_val - [0.83181682 0.83041696 0.840016   0.82941706 0.83461654 0.83481652\n",
            " 0.83228323 0.83518352 0.82746549 0.83496699]\n",
            "6\n",
            "accuracy  - 0.84972\n",
            "precision - 0.7288516495144707\n",
            "recall    - 0.6767019478136284\n",
            "cross_val - [0.83771623 0.83721628 0.83781622 0.83491651 0.8346     0.8363\n",
            " 0.8389839  0.84468447 0.84348435 0.83858386]\n",
            "7\n",
            "accuracy  - 0.85258\n",
            "precision - 0.7260093713111505\n",
            "recall    - 0.6752440714605034\n",
            "cross_val - [0.84571543 0.84511549 0.8441     0.8514     0.8458     0.8357\n",
            " 0.8412     0.8398     0.8342     0.83606721]\n",
            "8\n",
            "accuracy  - 0.84672\n",
            "precision - 0.7230117323064494\n",
            "recall    - 0.6725697166104507\n",
            "cross_val - [0.83681632 0.8406     0.84       0.84       0.8384     0.8317\n",
            " 0.8371     0.835      0.8301     0.83748375]\n",
            "9\n",
            "accuracy  - 0.8492\n",
            "precision - 0.7186543605355369\n",
            "recall    - 0.6727617558288562\n",
            "cross_val - [0.8440156  0.82791721 0.83951605 0.83941606 0.84191581 0.8389\n",
            " 0.8348     0.83558356 0.83556711 0.83726745]\n",
            "[3 1]\n"
          ],
          "name": "stdout"
        }
      ]
    },
    {
      "metadata": {
        "id": "rU8Di7ekhtkA",
        "colab_type": "code",
        "outputId": "e96feee0-5162-4e15-deed-48aa3f8d60c9",
        "colab": {
          "base_uri": "https://localhost:8080/",
          "height": 122
        }
      },
      "cell_type": "code",
      "source": [
        "from google.colab import drive\n",
        "drive.mount('/content/gdrive')"
      ],
      "execution_count": 0,
      "outputs": [
        {
          "output_type": "stream",
          "text": [
            "Go to this URL in a browser: https://accounts.google.com/o/oauth2/auth?client_id=947318989803-6bn6qk8qdgf4n4g3pfee6491hc0brc4i.apps.googleusercontent.com&redirect_uri=urn%3Aietf%3Awg%3Aoauth%3A2.0%3Aoob&scope=email%20https%3A%2F%2Fwww.googleapis.com%2Fauth%2Fdocs.test%20https%3A%2F%2Fwww.googleapis.com%2Fauth%2Fdrive%20https%3A%2F%2Fwww.googleapis.com%2Fauth%2Fdrive.photos.readonly%20https%3A%2F%2Fwww.googleapis.com%2Fauth%2Fpeopleapi.readonly&response_type=code\n",
            "\n",
            "Enter your authorization code:\n",
            "··········\n",
            "Mounted at /content/gdrive\n"
          ],
          "name": "stdout"
        }
      ]
    }
  ]
}